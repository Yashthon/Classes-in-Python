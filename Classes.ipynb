{
  "nbformat": 4,
  "nbformat_minor": 0,
  "metadata": {
    "colab": {
      "name": "Classes.ipynb",
      "provenance": [],
      "collapsed_sections": [],
      "authorship_tag": "ABX9TyP7K8R59ZKr6FTdHHcFL7jC",
      "include_colab_link": true
    },
    "kernelspec": {
      "name": "python3",
      "display_name": "Python 3"
    },
    "language_info": {
      "name": "python"
    }
  },
  "cells": [
    {
      "cell_type": "markdown",
      "metadata": {
        "id": "view-in-github",
        "colab_type": "text"
      },
      "source": [
        "<a href=\"https://colab.research.google.com/github/Yashthon/Classes-in-Python/blob/main/Classes.ipynb\" target=\"_parent\"><img src=\"https://colab.research.google.com/assets/colab-badge.svg\" alt=\"Open In Colab\"/></a>"
      ]
    },
    {
      "cell_type": "markdown",
      "source": [
        "# 1. Write a program to implement inheritance, create a class named aspolygon. Input the number of sides of a polygon and display them. Createa class named as triangle which inherits properties from polygon andcalculates and displays area of the triangle."
      ],
      "metadata": {
        "id": "83KHkxetmvkq"
      }
    },
    {
      "cell_type": "code",
      "execution_count": null,
      "metadata": {
        "colab": {
          "base_uri": "https://localhost:8080/"
        },
        "id": "pE5v1nNMkSlN",
        "outputId": "a0d905a6-3ffa-4b1f-cfda-d0b8a1b32175"
      },
      "outputs": [
        {
          "output_type": "stream",
          "name": "stdout",
          "text": [
            "Enter side 1 -> 5.5\n",
            "Enter side 2 -> 6\n",
            "Enter side 3 -> 7.3\n",
            "Sides 1 is 5.5\n",
            "Sides 2 is 6.0\n",
            "Sides 3 is 7.3\n",
            "Area of triangle is 16.178763858836685\n"
          ]
        }
      ],
      "source": [
        "class Polygon:\n",
        "  def __init__(self, sides):\n",
        "    self.n = sides\n",
        "    self.s = [0 for i in range(sides)]\n",
        "# Inp() takes in the magnitude of each side \n",
        "  def Inp(self):\n",
        "    self.s = [float(input(\"Enter side \"+str(i+1)+\" -> \")) for i in range(self.n)]\n",
        "# Disp() displays these side lengths.\n",
        "  def Disp(self):\n",
        "    for i in range(self.n):\n",
        "      print(\"Sides\", i+1, \"is\",self.s[i])\n",
        "class Triangle(Polygon):\n",
        "  def __init__(self):\n",
        "    Polygon.__init__(self,3)\n",
        "\n",
        "  def Area(self):\n",
        "    a, b, c = self.s\n",
        "    # Area\n",
        "    d = (a + b + c) / 2\n",
        "    area = (d*(d-a)*(d-b)*(d-c)) ** 0.5\n",
        "    print(\"Area of triangle is\",area)\n",
        "t = Triangle()\n",
        "t.Inp()\n",
        "t.Disp()\n",
        "t.Area()"
      ]
    },
    {
      "cell_type": "markdown",
      "source": [
        "# 2. Write a program to define a class named Shape and its subclass Square.The Square class has an init function which takes a length as argument.\n",
        "# Both classes have an area function which can print the area of the shape\n",
        "# where Shape&\n",
        "#39;s area is 0 by default."
      ],
      "metadata": {
        "id": "deMokMHZtlZf"
      }
    },
    {
      "cell_type": "code",
      "source": [
        "class Shape():\n",
        "  def __init__(self):\n",
        "    pass\n",
        "\n",
        "  def area(self):\n",
        "    return 0\n",
        "\n",
        "class Square(Shape):\n",
        "  def __init__(self, l = 0):\n",
        "    Shape.__init__(self)\n",
        "    self.length = l\n",
        "\n",
        "  def Area(self):\n",
        "    return self.length*self.length\n",
        "n = int(input(\"Enter here \"))   \n",
        "sqr = Square(n)\n",
        "print(sqr.Area())\n",
        "print(Square().Area())\n"
      ],
      "metadata": {
        "colab": {
          "base_uri": "https://localhost:8080/"
        },
        "id": "TTDZ0hyjtTaj",
        "outputId": "7462ff0b-3d85-4eb3-8b57-9d26e5b78374"
      },
      "execution_count": null,
      "outputs": [
        {
          "output_type": "stream",
          "name": "stdout",
          "text": [
            "Enter here 25\n",
            "625\n",
            "0\n"
          ]
        }
      ]
    },
    {
      "cell_type": "markdown",
      "source": [
        "# 3. Write a program to create a class, Triangle. It’s __init__() method shouldtake self, angle1, angle2, and angle3 as arguments. Create a variable and set it equal to 3. Create a method in which the sum of a triangle&#\n",
        "#39;s three angles is: It should return true if the sum of self.angle1, self.angle2, and self.angle3 is equal 180, and False otherwise."
      ],
      "metadata": {
        "id": "U3Y1AxKwxobV"
      }
    },
    {
      "cell_type": "code",
      "source": [
        "class Triangle(object):\n",
        "  n = 3\n",
        "  def __init__(self,angle1,angle2,angle3):\n",
        "    self.angle1 = angle1\n",
        "    self.angle2 = angle2\n",
        "    self.angle3 = angle3\n",
        "  def check(self):\n",
        "    if self.angle1 + self.angle2 + self.angle3 == 180:\n",
        "      return True\n",
        "    else:\n",
        "      return False\n",
        "\n",
        "tri = Triangle(90,40,50)\n",
        "print(tri.n)\n",
        "print(tri.check())"
      ],
      "metadata": {
        "colab": {
          "base_uri": "https://localhost:8080/"
        },
        "id": "AKFUgkdH0CWj",
        "outputId": "4c208360-f2e5-4fa6-cd63-cd5f29fcdcde"
      },
      "execution_count": null,
      "outputs": [
        {
          "output_type": "stream",
          "name": "stdout",
          "text": [
            "3\n",
            "True\n"
          ]
        }
      ]
    },
    {
      "cell_type": "markdown",
      "source": [
        "# 4. Write a program to create base class Vehicle and derived classes Bus and Car. Implement inheritance, include required attributes and methods for all the three classes."
      ],
      "metadata": {
        "id": "RqBnxFQm2lH0"
      }
    },
    {
      "cell_type": "code",
      "source": [
        "class Vehicle:\n",
        "  def __init__(self, name):\n",
        "    self.name = name\n",
        "  def Type(self):\n",
        "    print(\"It is \"+self.name+\"and it is an SUV\")\n",
        "\n",
        "class Bus(Vehicle):\n",
        "  def __init__(self,kind):\n",
        "    Vehicle.__init__(self,'Car ')\n",
        "    self.kind = kind\n",
        "  def Kind(self):\n",
        "    print(\"It is a \"+self.kind+\" of bus\")\n",
        "\n",
        "class Car(Vehicle):\n",
        "  def __init__(self, brand):\n",
        "    self.brand = brand\n",
        "  def Brand(self):\n",
        "    print(\"Car brand is \"+self.brand)\n",
        "\n",
        "\n",
        "x = Vehicle(\"Mavarik\")\n",
        "y = Bus(\"Red Bus\")\n",
        "z = Car(\"BMW\")\n",
        "print(x)\n",
        "print(y)\n",
        "print(z)\n",
        "x.Type()\n",
        "y.Kind()\n",
        "z.Brand()\n",
        "y.Type()\n",
        "  \n"
      ],
      "metadata": {
        "colab": {
          "base_uri": "https://localhost:8080/"
        },
        "id": "CIYHia1Mz8nn",
        "outputId": "988872ee-b061-4c0c-ca39-3509749cd616"
      },
      "execution_count": null,
      "outputs": [
        {
          "output_type": "stream",
          "name": "stdout",
          "text": [
            "<__main__.Vehicle object at 0x7f76447cce50>\n",
            "<__main__.Bus object at 0x7f76447ccd90>\n",
            "<__main__.Car object at 0x7f76447ccb10>\n",
            "It is Mavarikand it is an SUV\n",
            "It is a Red Bus of bus\n",
            "Car brand is BMW\n",
            "It is Car and it is an SUV\n"
          ]
        }
      ]
    },
    {
      "cell_type": "markdown",
      "source": [
        "# 5. Write a Python class to find the three elements that sum to zero from a set of n real numbers.\n",
        "# Input : [-25, -10, -7, -3, 2, 4, 8, 10]\n",
        "# Output : [[-10, 2, 8], [-7, -3, 10]]"
      ],
      "metadata": {
        "id": "A6UYxxCT8rb8"
      }
    },
    {
      "cell_type": "code",
      "source": [
        "class real:\n",
        "  def Three(self, nums):\n",
        "    nums, result, i = sorted(nums),[],0\n",
        "    while i < len(nums) -2:\n",
        "      j, k = i + 1, len(nums) -1\n",
        "      while j < k:\n",
        "        if nums[i] + nums[j] + nums[k] < 0:\n",
        "          j += 1\n",
        "        elif nums[i] + nums[j] + nums[k] > 0:\n",
        "          k -= 1\n",
        "\n",
        "        else:\n",
        "          result.append([nums[i], nums[j], nums[k]])\n",
        "          j,k = j + 1, k - 1\n",
        "          while j < k and nums[j] == nums[j - 1]:\n",
        "            j += 1\n",
        "          while j < k and nums[k] == nums[k + 1]:\n",
        "            k -= 1\n",
        "      i += 1\n",
        "      while i < len(nums) - 2 and nums[i] == nums[i - 1]:\n",
        "        i += 1\n",
        "    return result\n",
        "print(real().Three([-25, -10, -7, -3, 2, 4, 8, 10]))"
      ],
      "metadata": {
        "colab": {
          "base_uri": "https://localhost:8080/"
        },
        "id": "xAtsaSJP7nLE",
        "outputId": "c38cca7d-84f1-487a-f4f7-b00665dc000c"
      },
      "execution_count": null,
      "outputs": [
        {
          "output_type": "stream",
          "name": "stdout",
          "text": [
            "[[-10, 2, 8], [-7, -3, 10]]\n"
          ]
        }
      ]
    },
    {
      "cell_type": "markdown",
      "source": [
        "# 6. Using class implement: Queue and all its operations"
      ],
      "metadata": {
        "id": "511XThLuALnN"
      }
    },
    {
      "cell_type": "code",
      "source": [
        "class Queue:\n",
        "  def __init__(self):\n",
        "    self.items = []\n",
        "\n",
        "  def isEmpty(self):\n",
        "    return self.items == []\n",
        "\n",
        "  def enqueue(self, item):\n",
        "    self.items.insert(0, item)\n",
        "\n",
        "  def dequeue(self):\n",
        "    return self.items.pop()\n",
        "\n",
        "  def size(self):\n",
        "    return len(self.items)\n",
        "\n",
        "q = Queue()\n",
        "\n",
        "q.enqueue(4)\n",
        "q.enqueue(\"Python\")\n",
        "q.enqueue(True)\n",
        "print(q.size())"
      ],
      "metadata": {
        "colab": {
          "base_uri": "https://localhost:8080/"
        },
        "id": "x3ZQeoYE-sLh",
        "outputId": "615ed265-4b15-4884-ac3e-2720534f491a"
      },
      "execution_count": null,
      "outputs": [
        {
          "output_type": "stream",
          "name": "stdout",
          "text": [
            "3\n"
          ]
        }
      ]
    },
    {
      "cell_type": "code",
      "source": [
        "q.isEmpty()"
      ],
      "metadata": {
        "colab": {
          "base_uri": "https://localhost:8080/"
        },
        "id": "_W_MwmWaIcpY",
        "outputId": "05606e6e-fe85-40f2-c81d-a5cac2e18cc9"
      },
      "execution_count": null,
      "outputs": [
        {
          "output_type": "execute_result",
          "data": {
            "text/plain": [
              "True"
            ]
          },
          "metadata": {},
          "execution_count": 97
        }
      ]
    },
    {
      "cell_type": "code",
      "source": [
        "q.enqueue(24)"
      ],
      "metadata": {
        "id": "WQoWeGl0IyEu"
      },
      "execution_count": null,
      "outputs": []
    },
    {
      "cell_type": "code",
      "source": [
        "q.isEmpty()"
      ],
      "metadata": {
        "colab": {
          "base_uri": "https://localhost:8080/"
        },
        "id": "uU1I_oo1I6ML",
        "outputId": "c20b42f9-e445-4431-fc4d-cd72cd826e23"
      },
      "execution_count": null,
      "outputs": [
        {
          "output_type": "execute_result",
          "data": {
            "text/plain": [
              "False"
            ]
          },
          "metadata": {},
          "execution_count": 99
        }
      ]
    },
    {
      "cell_type": "markdown",
      "source": [
        "# 7. Using class implement: Stack and all its operations"
      ],
      "metadata": {
        "id": "vZcGfO7LFPRv"
      }
    },
    {
      "cell_type": "code",
      "source": [
        "class Stack:\n",
        "     def __init__(self):\n",
        "         self.items = []\n",
        "\n",
        "     def isEmpty(self):\n",
        "         return self.items == []\n",
        "\n",
        "     def push(self, item):\n",
        "         self.items.append(item)\n",
        "\n",
        "     def pop(self):\n",
        "         return self.items.pop()\n",
        "\n",
        "     def peek(self):\n",
        "         return self.items[len(self.items)-1]\n",
        "\n",
        "     def size(self):\n",
        "         return len(self.items)\n",
        "s = Stack()\n"
      ],
      "metadata": {
        "id": "_dLsE-3lAPiM"
      },
      "execution_count": null,
      "outputs": []
    },
    {
      "cell_type": "code",
      "source": [
        "print(s.isEmpty())\n"
      ],
      "metadata": {
        "colab": {
          "base_uri": "https://localhost:8080/"
        },
        "id": "Q6Qg3ZXvFs4r",
        "outputId": "34b0cbc5-ec2e-483b-ff65-2d70eb618483"
      },
      "execution_count": null,
      "outputs": [
        {
          "output_type": "stream",
          "name": "stdout",
          "text": [
            "True\n"
          ]
        }
      ]
    },
    {
      "cell_type": "code",
      "source": [
        "s.push(1)"
      ],
      "metadata": {
        "id": "Un1lrkcpHlsh"
      },
      "execution_count": null,
      "outputs": []
    },
    {
      "cell_type": "code",
      "source": [
        "s.push('Yash')"
      ],
      "metadata": {
        "id": "dbR-yC72HqjS"
      },
      "execution_count": null,
      "outputs": []
    },
    {
      "cell_type": "code",
      "source": [
        "s.push('123456789')"
      ],
      "metadata": {
        "id": "3YdnYqJEHtL5"
      },
      "execution_count": null,
      "outputs": []
    },
    {
      "cell_type": "code",
      "source": [
        "s.peek()"
      ],
      "metadata": {
        "colab": {
          "base_uri": "https://localhost:8080/",
          "height": 35
        },
        "id": "u8jiI05_Hv3S",
        "outputId": "25ae0e89-5ae5-4474-f346-235cce96d7f9"
      },
      "execution_count": null,
      "outputs": [
        {
          "output_type": "execute_result",
          "data": {
            "application/vnd.google.colaboratory.intrinsic+json": {
              "type": "string"
            },
            "text/plain": [
              "'123456789'"
            ]
          },
          "metadata": {},
          "execution_count": 84
        }
      ]
    },
    {
      "cell_type": "code",
      "source": [
        "s.isEmpty()"
      ],
      "metadata": {
        "colab": {
          "base_uri": "https://localhost:8080/"
        },
        "id": "eYF3exQyHydd",
        "outputId": "e489cafe-6105-457c-fdeb-853970373225"
      },
      "execution_count": null,
      "outputs": [
        {
          "output_type": "execute_result",
          "data": {
            "text/plain": [
              "False"
            ]
          },
          "metadata": {},
          "execution_count": 88
        }
      ]
    },
    {
      "cell_type": "code",
      "source": [
        "s.pop()"
      ],
      "metadata": {
        "colab": {
          "base_uri": "https://localhost:8080/",
          "height": 35
        },
        "id": "z-OSmaFjIEJn",
        "outputId": "fccecaee-7868-4deb-9c2a-f4d4ce083e21"
      },
      "execution_count": null,
      "outputs": [
        {
          "output_type": "execute_result",
          "data": {
            "application/vnd.google.colaboratory.intrinsic+json": {
              "type": "string"
            },
            "text/plain": [
              "'123456789'"
            ]
          },
          "metadata": {},
          "execution_count": 100
        }
      ]
    },
    {
      "cell_type": "code",
      "source": [
        "s.peek()"
      ],
      "metadata": {
        "colab": {
          "base_uri": "https://localhost:8080/",
          "height": 35
        },
        "id": "CcMmeMiUJEMs",
        "outputId": "62d481be-f209-4bb4-cbed-47a3d742c639"
      },
      "execution_count": null,
      "outputs": [
        {
          "output_type": "execute_result",
          "data": {
            "application/vnd.google.colaboratory.intrinsic+json": {
              "type": "string"
            },
            "text/plain": [
              "'Yash'"
            ]
          },
          "metadata": {},
          "execution_count": 101
        }
      ]
    }
  ]
}